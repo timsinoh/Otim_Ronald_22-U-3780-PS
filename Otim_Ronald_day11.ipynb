{
 "cells": [
  {
   "cell_type": "code",
   "execution_count": 1,
   "id": "969b55d8-a3b6-4175-a40e-e662488f23f4",
   "metadata": {},
   "outputs": [],
   "source": [
    "# Machune learning\n",
    "# Types of Supervised learning\n",
    "# Unsupervised learning\n",
    "# Reinforcement Learning"
   ]
  },
  {
   "cell_type": "code",
   "execution_count": 2,
   "id": "dfe25265-ef99-449e-b7ce-6840502d3839",
   "metadata": {},
   "outputs": [],
   "source": [
    "# Data Processing\n",
    "# Data Cleaning\n",
    "# Steps\n",
    "# Check for\n",
    "# Duplicates, wrong format, wrong data, empty cell, missing data\n",
    "# Age 23, 230, 1.33, 1.44, 1.5o, wrong format, 1/7/2024, 372024, 4/7/2024, NaN, 6/7/2024, NaN, Age, BSE KNN of Agge in BSE, 23,20.12, 19, 41\n",
    "# Handling missing data, remove/delete, Imputation, Mean/Median/Mode, Use Forward/backward filling, KNN or Regression"
   ]
  },
  {
   "cell_type": "code",
   "execution_count": 3,
   "id": "f4c14a03-101a-4a0a-9e15-9cc78b6140fa",
   "metadata": {},
   "outputs": [],
   "source": [
    "# Exploratory Data Analysis\n",
    "# Steps\n",
    "# Descriptive Statistics\n",
    "# Measure of Central Tendancy, Mean, Median, Mode\n",
    "# measure of Spread: range, variance, standard deviation, iterquartile range\n",
    "# Skewness, Kurtosis\n",
    "# Data Visualization, Histogram-distribution of a single variable, Box plots-Indetifying outliers\n",
    "# Scatter plot- examining relationships between two variables\n",
    "# Heatmaps - visualising correction matrics"
   ]
  },
  {
   "cell_type": "code",
   "execution_count": 4,
   "id": "28f61533-710a-4d47-97ac-9765a397d430",
   "metadata": {},
   "outputs": [],
   "source": [
    "# Tools for data visualization\n",
    "# Matplotlib, Line, bar, scatter and histogram\n",
    "# Seaborn, themes, color palettes, looks more attractive\n",
    "# Plotly, Bokeh"
   ]
  },
  {
   "cell_type": "code",
   "execution_count": 5,
   "id": "9bec4613-60c5-4377-9349-b04fc69a0efb",
   "metadata": {},
   "outputs": [],
   "source": [
    "# Feature Engineering\n",
    "# Selction, Filter like chi-square, ANOVA\n",
    "# Wrapper recursive features\n",
    "# Embedded, Lasso regression\n",
    "\n",
    "# Feature scaling and Normalization\n",
    "# Normalization Rescale to a range, (Age, 20-28)\n",
    "# Standard Deviation, transform std,\n",
    "# Create new features, Polynomals, intersection "
   ]
  },
  {
   "cell_type": "code",
   "execution_count": 6,
   "id": "1d86a964-20af-4dcc-b299-0275d6bc1eac",
   "metadata": {},
   "outputs": [],
   "source": [
    "# Data splitting\n",
    "# Training and evalution of a model\n",
    "# Most common ratios, 20testing- 80 training, 30, 70\n",
    "# import sckit-learn to help split train_test_split"
   ]
  },
  {
   "cell_type": "code",
   "execution_count": 7,
   "id": "ea7a836d-57ac-4077-9ec7-3c28e89b72cf",
   "metadata": {},
   "outputs": [],
   "source": [
    "# Random state is used to shuffle data before splitting it into a tarining and test set.\n",
    "\n",
    "# Cross validation - evaluate the performance of the dara, multiple folds\n",
    "\n",
    "# Types are, train/test we can use k-Fold Cross validation\n",
    "# Stratified k-Fold, Ensure our distribution of the target variable, particularly used in the imbalance datasets\n",
    "# Cross validation helps in reducing variance in model performance estimates\n",
    "# provides a comprehensive evaluation of model performance"
   ]
  },
  {
   "cell_type": "code",
   "execution_count": 8,
   "id": "34a6a5d5-4702-45f8-9be8-ca01e72f7e45",
   "metadata": {},
   "outputs": [],
   "source": [
    "# Supervised Learning Algorithms\n",
    "# 1. Regression, Linear, Polynomial\n",
    "# 2. Classification\n",
    "# Logistic Regression, k-Nearest Neighbor(KNN), Support Vector Matrix(SVM), Decision Tree and Random forest\n",
    "\n",
    "# Model Evaluation\n",
    "# Metrics: Accuracy, Precision, Recall, F1-Score\n",
    "# Confusion Matrix,\n",
    "# AUC and ROC, Area Under the Curve, Receiver Operating characteristics Curve"
   ]
  },
  {
   "cell_type": "code",
   "execution_count": 9,
   "id": "55b013d3-9a96-4f35-a105-be054ffcb1eb",
   "metadata": {},
   "outputs": [],
   "source": [
    "# Summary Supervised Learning\n",
    "# Labelled data, Predict output for newinputs, Common Task, Classification and Regression\n",
    "\n",
    "# Summary Unsupervised Learning\n",
    "# Unlabelled, find hidde patterns or structures in data, Common task Like, Clustering, Dimensionality, Association Rule Learning\n",
    "\n",
    "# Definition\n",
    "# Supervised Learning: Learns from labeled data to predict outputs for new inputs\n",
    "# Unsupervised Learning: Learns from unlabeled data to identify patterns and structure within data"
   ]
  },
  {
   "cell_type": "code",
   "execution_count": null,
   "id": "22817998-e0df-4dc7-b2b8-ff7fabb843f1",
   "metadata": {},
   "outputs": [],
   "source": []
  }
 ],
 "metadata": {
  "kernelspec": {
   "display_name": "Python 3 (ipykernel)",
   "language": "python",
   "name": "python3"
  },
  "language_info": {
   "codemirror_mode": {
    "name": "ipython",
    "version": 3
   },
   "file_extension": ".py",
   "mimetype": "text/x-python",
   "name": "python",
   "nbconvert_exporter": "python",
   "pygments_lexer": "ipython3",
   "version": "3.12.0"
  }
 },
 "nbformat": 4,
 "nbformat_minor": 5
}
