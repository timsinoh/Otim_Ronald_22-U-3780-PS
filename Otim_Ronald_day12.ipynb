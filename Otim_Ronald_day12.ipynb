{
 "cells": [
  {
   "cell_type": "code",
   "execution_count": 15,
   "metadata": {},
   "outputs": [
    {
     "name": "stdout",
     "output_type": "stream",
     "text": [
      "Selected Features:  Index(['age', 'sex', 'cp', 'trestbps', 'chol', 'thalach', 'exang', 'oldpeak',\n",
      "       'slope', 'ca'],\n",
      "      dtype='object')\n"
     ]
    }
   ],
   "source": [
    "# Feature Engineering\n",
    "# Select the top 10 features based on the chi-squared test\n",
    "import pandas as pd\n",
    "\n",
    "# Load your dataset into a pandas DataFrame\n",
    "data = pd.read_csv('heart.csv.xls')\n",
    "\n",
    "# Now you can use the 'data' variable\n",
    "X = data.drop('target', axis=1)\n",
    "y = data['target']\n",
    "\n",
    "from sklearn.feature_selection import SelectKBest, chi2\n",
    "selector = SelectKBest(chi2, k=10)\n",
    "x_new = selector.fit_transform(X, y)\n",
    "selected_features = X.columns[selector.get_support()]\n",
    "\n",
    "print('Selected Features: ', selected_features)\n"
   ]
  },
  {
   "cell_type": "code",
   "execution_count": 16,
   "metadata": {},
   "outputs": [],
   "source": [
    "# Notes on the datasets\n",
    "# target column is the heart-disease-status, where, 0 = no heart - disease\n",
    "# 1, presence of the heart-disease"
   ]
  },
  {
   "cell_type": "code",
   "execution_count": 17,
   "metadata": {},
   "outputs": [],
   "source": [
    "# Feature scaling \n",
    "from sklearn.preprocessing import StandardScaler\n",
    "\n",
    "from sklearn.preprocessing import MinMaxScaler\n",
    "\n",
    "# Standardization\n",
    "scaler = StandardScaler()\n",
    "X_scaled = scaler.fit_transform(X)\n",
    "\n",
    "# Normalize the features\n",
    "scaler = MinMaxScaler()\n",
    "X_normalized = scaler.fit_transform(X)\n"
   ]
  },
  {
   "cell_type": "code",
   "execution_count": 1,
   "metadata": {},
   "outputs": [
    {
     "name": "stdout",
     "output_type": "stream",
     "text": [
      "   age  sex  cp  trestbps  chol  fbs  restecg  thalach  exang  oldpeak  slope  \\\n",
      "0   63    1   3       145   233    1        0      150      0      2.3      0   \n",
      "1   37    1   2       130   250    0        1      187      0      3.5      0   \n",
      "2   41    0   1       130   204    0        0      172      0      1.4      2   \n",
      "3   56    1   1       120   236    0        1      178      0      0.8      2   \n",
      "4   57    0   0       120   354    0        1      163      1      0.6      2   \n",
      "\n",
      "   ca  thal  target  \n",
      "0   0     1       1  \n",
      "1   0     2       1  \n",
      "2   0     2       1  \n",
      "3   0     2       1  \n",
      "4   0     2       1  \n",
      "<class 'pandas.core.frame.DataFrame'>\n",
      "RangeIndex: 303 entries, 0 to 302\n",
      "Data columns (total 14 columns):\n",
      " #   Column    Non-Null Count  Dtype  \n",
      "---  ------    --------------  -----  \n",
      " 0   age       303 non-null    int64  \n",
      " 1   sex       303 non-null    int64  \n",
      " 2   cp        303 non-null    int64  \n",
      " 3   trestbps  303 non-null    int64  \n",
      " 4   chol      303 non-null    int64  \n",
      " 5   fbs       303 non-null    int64  \n",
      " 6   restecg   303 non-null    int64  \n",
      " 7   thalach   303 non-null    int64  \n",
      " 8   exang     303 non-null    int64  \n",
      " 9   oldpeak   303 non-null    float64\n",
      " 10  slope     303 non-null    int64  \n",
      " 11  ca        303 non-null    int64  \n",
      " 12  thal      303 non-null    int64  \n",
      " 13  target    303 non-null    int64  \n",
      "dtypes: float64(1), int64(13)\n",
      "memory usage: 33.3 KB\n",
      "None\n"
     ]
    }
   ],
   "source": [
    "import pandas as pd\n",
    "\n",
    "# Load the dataset\n",
    "df = pd.read_csv('heart.csv.xls')\n",
    "\n",
    "# Display the first few rows of the dataset\n",
    "print(df.head())\n",
    "print(df.info())"
   ]
  },
  {
   "cell_type": "markdown",
   "metadata": {},
   "source": [
    "Feature Engineering"
   ]
  },
  {
   "cell_type": "code",
   "execution_count": 2,
   "metadata": {},
   "outputs": [
    {
     "name": "stdout",
     "output_type": "stream",
     "text": [
      "[ 23.28662399   7.57683451  62.59809791  14.8239245   23.93639448\n",
      "   0.20293368   2.97827075 188.32047169  38.91437697  72.64425301\n",
      "   9.8040952   66.44076512   5.79185297]\n"
     ]
    }
   ],
   "source": [
    "from sklearn.feature_selection import SelectKBest, chi2\n",
    "\n",
    "# Separate features and target variable\n",
    "X = df.drop('target', axis=1)\n",
    "y = df['target']\n",
    "\n",
    "# Apply SelectKBest with chi2\n",
    "chi2_selector = SelectKBest(chi2, k='all')\n",
    "X_kbest = chi2_selector.fit_transform(X, y)\n",
    "\n",
    "# Get the scores for each feature\n",
    "chi2_scores = chi2_selector.scores_\n",
    "print(chi2_scores)"
   ]
  },
  {
   "cell_type": "code",
   "execution_count": 3,
   "metadata": {},
   "outputs": [
    {
     "name": "stdout",
     "output_type": "stream",
     "text": [
      "[16.11669982 25.79219115 69.77227149  6.45816867  2.20298345  0.23694234\n",
      "  5.77720891 65.1201044  70.95243822 68.55143941 40.90207063 54.5598338\n",
      " 40.40769615]\n"
     ]
    }
   ],
   "source": [
    "from sklearn.feature_selection import f_classif\n",
    "\n",
    "# Apply SelectKBest with ANOVA\n",
    "anova_selector = SelectKBest(f_classif, k='all')\n",
    "X_anova = anova_selector.fit_transform(X, y)\n",
    "\n",
    "# Get the scores for each feature\n",
    "anova_scores = anova_selector.scores_\n",
    "print(anova_scores)"
   ]
  },
  {
   "cell_type": "code",
   "execution_count": 4,
   "metadata": {},
   "outputs": [
    {
     "name": "stdout",
     "output_type": "stream",
     "text": [
      "[9 1 2 6 8 7 4 5 1 3 1 1 1]\n"
     ]
    }
   ],
   "source": [
    "from sklearn.feature_selection import RFE\n",
    "from sklearn.linear_model import LogisticRegression\n",
    "\n",
    "# Initialize the model\n",
    "model = LogisticRegression(max_iter=1000)\n",
    "\n",
    "# Apply RFE\n",
    "rfe_selector = RFE(model, n_features_to_select=5)\n",
    "X_rfe = rfe_selector.fit_transform(X, y)\n",
    "\n",
    "# Get the ranking of features\n",
    "rfe_ranking = rfe_selector.ranking_\n",
    "print(rfe_ranking)"
   ]
  },
  {
   "cell_type": "code",
   "execution_count": 5,
   "metadata": {},
   "outputs": [
    {
     "name": "stdout",
     "output_type": "stream",
     "text": [
      "[-0.00062785 -0.17883011  0.11255077 -0.00202927 -0.0003682   0.\n",
      "  0.03472925  0.00336866 -0.12461461 -0.06254206  0.06357207 -0.09679258\n",
      " -0.11236982]\n"
     ]
    }
   ],
   "source": [
    "from sklearn.linear_model import LassoCV\n",
    "\n",
    "# Apply LassoCV\n",
    "lasso = LassoCV(cv=5)\n",
    "lasso.fit(X, y)\n",
    "\n",
    "# Get the coefficients\n",
    "lasso_coefficients = lasso.coef_\n",
    "print(lasso_coefficients)"
   ]
  },
  {
   "cell_type": "markdown",
   "metadata": {},
   "source": [
    "Data Splitting"
   ]
  },
  {
   "cell_type": "code",
   "execution_count": 6,
   "metadata": {},
   "outputs": [
    {
     "name": "stdout",
     "output_type": "stream",
     "text": [
      "Training set size: (242, 13)\n",
      "Testing set size: (61, 13)\n"
     ]
    }
   ],
   "source": [
    "from sklearn.model_selection import train_test_split\n",
    "\n",
    "# Split the data\n",
    "X_train, X_test, y_train, y_test = train_test_split(X, y, test_size=0.2, random_state=42)\n",
    "\n",
    "print('Training set size:', X_train.shape)\n",
    "print('Testing set size:', X_test.shape)"
   ]
  },
  {
   "cell_type": "code",
   "execution_count": 7,
   "metadata": {},
   "outputs": [
    {
     "name": "stdout",
     "output_type": "stream",
     "text": [
      "k-Fold CV scores: [0.8852459  0.83606557 0.81967213 0.71666667 0.86666667]\n",
      "Mean CV score: 0.8248633879781421\n"
     ]
    }
   ],
   "source": [
    "from sklearn.model_selection import cross_val_score, KFold\n",
    "\n",
    "# Initialize k-Fold\n",
    "kf = KFold(n_splits=5, shuffle=True, random_state=42)\n",
    "\n",
    "# Evaluate the model using cross-validation\n",
    "cv_scores = cross_val_score(model, X, y, cv=kf)\n",
    "print('k-Fold CV scores:', cv_scores)\n",
    "print('Mean CV score:', cv_scores.mean())"
   ]
  },
  {
   "cell_type": "markdown",
   "metadata": {},
   "source": [
    "Supervised Learning Algorithms"
   ]
  },
  {
   "cell_type": "code",
   "execution_count": 9,
   "metadata": {},
   "outputs": [
    {
     "name": "stdout",
     "output_type": "stream",
     "text": [
      "Logistic Regression Accuracy: 0.8852459016393442\n"
     ]
    }
   ],
   "source": [
    "from sklearn.linear_model import LogisticRegression\n",
    "from sklearn.metrics import accuracy_score\n",
    "\n",
    "# Initialize and train the model\n",
    "log_reg = LogisticRegression(max_iter=1000)\n",
    "log_reg.fit(X_train, y_train)\n",
    "\n",
    "# Predict and evaluate\n",
    "y_pred = log_reg.predict(X_test)\n",
    "log_reg_accuracy = accuracy_score(y_test, y_pred)\n",
    "print('Logistic Regression Accuracy:', log_reg_accuracy)"
   ]
  },
  {
   "cell_type": "code",
   "execution_count": 10,
   "metadata": {},
   "outputs": [
    {
     "name": "stdout",
     "output_type": "stream",
     "text": [
      "KNN Accuracy: 0.6885245901639344\n"
     ]
    }
   ],
   "source": [
    "from sklearn.neighbors import KNeighborsClassifier\n",
    "\n",
    "# Initialize and train the model\n",
    "knn = KNeighborsClassifier(n_neighbors=5)\n",
    "knn.fit(X_train, y_train)\n",
    "\n",
    "# Predict and evaluate\n",
    "y_pred = knn.predict(X_test)\n",
    "knn_accuracy = accuracy_score(y_test, y_pred)\n",
    "print('KNN Accuracy:', knn_accuracy)"
   ]
  },
  {
   "cell_type": "code",
   "execution_count": 11,
   "metadata": {},
   "outputs": [
    {
     "name": "stdout",
     "output_type": "stream",
     "text": [
      "SVM Accuracy: 0.7049180327868853\n"
     ]
    }
   ],
   "source": [
    "from sklearn.svm import SVC\n",
    "\n",
    "# Initialize and train the model\n",
    "svm = SVC()\n",
    "svm.fit(X_train, y_train)\n",
    "\n",
    "# Predict and evaluate\n",
    "y_pred = svm.predict(X_test)\n",
    "svm_accuracy = accuracy_score(y_test, y_pred)\n",
    "print('SVM Accuracy:', svm_accuracy)"
   ]
  },
  {
   "cell_type": "code",
   "execution_count": 12,
   "metadata": {},
   "outputs": [
    {
     "name": "stdout",
     "output_type": "stream",
     "text": [
      "Decision Tree Accuracy: 0.819672131147541\n"
     ]
    }
   ],
   "source": [
    "from sklearn.tree import DecisionTreeClassifier\n",
    "\n",
    "# Initialize and train the model\n",
    "dt = DecisionTreeClassifier()\n",
    "dt.fit(X_train, y_train)\n",
    "\n",
    "# Predict and evaluate\n",
    "y_pred = dt.predict(X_test)\n",
    "dt_accuracy = accuracy_score(y_test, y_pred)\n",
    "print('Decision Tree Accuracy:', dt_accuracy)"
   ]
  },
  {
   "cell_type": "code",
   "execution_count": 13,
   "metadata": {},
   "outputs": [
    {
     "name": "stdout",
     "output_type": "stream",
     "text": [
      "Random Forest Accuracy: 0.8360655737704918\n"
     ]
    }
   ],
   "source": [
    "from sklearn.ensemble import RandomForestClassifier\n",
    "\n",
    "# Initialize and train the model\n",
    "rf = RandomForestClassifier()\n",
    "rf.fit(X_train, y_train)\n",
    "\n",
    "# Predict and evaluate\n",
    "y_pred = rf.predict(X_test)\n",
    "rf_accuracy = accuracy_score(y_test, y_pred)\n",
    "print('Random Forest Accuracy:', rf_accuracy)"
   ]
  },
  {
   "cell_type": "markdown",
   "metadata": {},
   "source": [
    "Unsupervised Learning"
   ]
  },
  {
   "cell_type": "code",
   "execution_count": 14,
   "metadata": {},
   "outputs": [
    {
     "name": "stdout",
     "output_type": "stream",
     "text": [
      "Cluster labels: [1 1 0 1 2 0 2 1 0 0 1 1 1 0 1 0 2 1 1 1 1 1 0 1 0 2 0 0 2 0 0 0 0 1 0 0 2\n",
      " 1 1 2 2 1 0 1 2 2 1 1 0 1 1 2 1 0 1 0 0 1 0 2 1 2 0 0 0 0 0 1 0 0 1 0 0 1\n",
      " 0 1 1 0 0 1 1 2 2 2 1 2 1 0 0 1 1 0 0 1 0 1 2 1 2 1 1 1 0 1 0 0 1 1 1 1 2\n",
      " 0 2 0 1 0 0 0 0 1 2 1 1 1 0 0 0 1 0 1 0 1 2 1 2 1 0 0 0 1 2 2 0 0 0 1 1 1\n",
      " 0 0 1 0 1 1 0 0 1 0 0 0 1 2 0 0 0 1 1 1 1 0 1 0 1 0 0 0 1 2 0 1 2 1 2 1 1\n",
      " 1 1 1 1 0 2 0 0 1 0 2 1 1 1 1 0 1 1 1 0 1 1 1 0 0 1 1 0 2 1 2 1 2 1 1 2 0\n",
      " 1 1 1 0 1 0 1 2 1 1 1 1 2 2 2 2 2 1 1 1 0 1 0 1 2 1 1 1 2 1 2 2 1 2 1 0 1\n",
      " 1 1 1 1 1 0 0 2 0 1 1 1 1 1 1 1 0 0 1 2 0 2 0 0 0 0 2 0 1 2 0 0 2 1 0 0 0\n",
      " 0 0 1 1 0 0 1]\n"
     ]
    }
   ],
   "source": [
    "from sklearn.cluster import KMeans\n",
    "\n",
    "# Initialize and fit the model\n",
    "kmeans = KMeans(n_clusters=3)\n",
    "kmeans.fit(X)\n",
    "\n",
    "# Get the cluster labels\n",
    "cluster_labels = kmeans.labels_\n",
    "print('Cluster labels:', cluster_labels)"
   ]
  },
  {
   "cell_type": "code",
   "execution_count": 15,
   "metadata": {},
   "outputs": [
    {
     "name": "stdout",
     "output_type": "stream",
     "text": [
      "PCA components: [[-1.22673448e+01 -2.87383781e+00]\n",
      " [ 2.69013712e+00  3.98713736e+01]\n",
      " [-4.29502141e+01  2.36368199e+01]\n",
      " [-1.09447564e+01  2.84380358e+01]\n",
      " [ 1.06979053e+02  1.58744678e+01]\n",
      " [-5.36472038e+01 -4.00392377e+00]\n",
      " [ 4.80821551e+01  3.03896086e+00]\n",
      " [ 1.55660590e+01  2.62745637e+01]\n",
      " [-4.54388962e+01  7.42977739e+00]\n",
      " [-7.73163161e+01  1.99100759e+01]\n",
      " [-6.94323738e+00  9.17536374e+00]\n",
      " [ 2.84259379e+01 -8.47126467e+00]\n",
      " [ 1.92477377e+01  2.24212575e+01]\n",
      " [-3.58055558e+01 -5.70343964e+00]\n",
      " [ 3.75886896e+01  1.02579437e+01]\n",
      " [-2.79998518e+01  9.64570379e+00]\n",
      " [ 9.29750393e+01  2.42584272e+01]\n",
      " [-1.86307973e+01 -3.92597411e+01]\n",
      " [ 1.00245407e+00  2.10404091e+01]\n",
      " [-6.28419048e+00 -2.34469473e+00]\n",
      " [-1.19811457e+01  9.66308502e+00]\n",
      " [-1.39453649e+01  3.05172542e+01]\n",
      " [-2.05255102e+01  2.87200024e+01]\n",
      " [-2.03216541e+00 -1.55254511e+01]\n",
      " [-4.75528071e+01  2.85622656e+01]\n",
      " [ 5.75441203e+01  7.18762436e+00]\n",
      " [-3.31978406e+01  3.78773342e+00]\n",
      " [-7.20962852e+01 -2.45271249e+01]\n",
      " [ 1.71167708e+02  7.71869434e+00]\n",
      " [-4.93191556e+01  1.76485033e+00]\n",
      " [-5.01007485e+01  2.22229739e+01]\n",
      " [-6.91929442e+01 -1.14888587e+01]\n",
      " [-2.79824102e+01  3.90409838e+01]\n",
      " [ 2.63348351e+01  3.58093199e+00]\n",
      " [-3.34679777e+01 -2.34124147e+01]\n",
      " [-6.90416954e+01  9.21356282e+00]\n",
      " [ 5.76159309e+01  2.07758786e+01]\n",
      " [-1.34903293e+01  1.29013455e+01]\n",
      " [ 2.42327315e+01 -5.49629632e+00]\n",
      " [ 1.15272998e+02 -1.31729856e+00]\n",
      " [ 6.19386342e+01 -6.51796361e+00]\n",
      " [-1.81594733e+00  3.09857643e+01]\n",
      " [-3.98582315e+01  2.17228532e+00]\n",
      " [ 1.76202166e+01 -5.72741745e+00]\n",
      " [ 7.41402129e+01  3.50445822e+01]\n",
      " [ 7.77674937e+01  2.50432446e+01]\n",
      " [-1.14803471e+01  3.05087153e+01]\n",
      " [ 1.06766335e+01  7.14459399e+00]\n",
      " [-3.01815530e+01 -3.37656200e+01]\n",
      " [-1.20664017e+01  9.48916506e+00]\n",
      " [ 9.50967652e+00  3.78404916e-01]\n",
      " [ 5.55227054e+01  1.49713282e+00]\n",
      " [-1.49814291e+01 -5.10910088e+00]\n",
      " [-1.06782254e+02  2.70995374e+01]\n",
      " [ 6.05902948e+00  2.00797354e+01]\n",
      " [-4.52195974e+01  7.47967373e+00]\n",
      " [-2.51948565e+01  3.72340745e+01]\n",
      " [ 1.22870268e+01  3.82682680e+01]\n",
      " [-6.57761067e+01  2.77342770e+01]\n",
      " [ 5.64900647e+01  1.01515531e+01]\n",
      " [ 1.84703454e+01 -1.95824848e+01]\n",
      " [ 6.14251568e+01  9.97976370e+00]\n",
      " [-6.11924097e+01  4.01598131e+01]\n",
      " [-4.34222710e+01 -1.59715224e+01]\n",
      " [-3.47706781e+01  1.28336095e+01]\n",
      " [-6.38389942e+01  3.32520799e+01]\n",
      " [-2.58092998e+01 -3.06100628e+00]\n",
      " [-1.28738102e+01  2.64263198e+01]\n",
      " [-2.73293392e+01  2.25103104e+01]\n",
      " [-3.73524443e+01  1.17499709e+01]\n",
      " [ 1.11623689e+01 -1.05760048e+00]\n",
      " [-2.11845499e+01  8.42731177e+00]\n",
      " [-4.36481435e+01  5.51630465e+01]\n",
      " [ 1.47048217e+01  3.55689655e+01]\n",
      " [-3.42225937e+01  1.74622766e+01]\n",
      " [ 3.83167514e+00  1.07012108e+01]\n",
      " [-1.83098204e+00  1.72502209e+01]\n",
      " [-2.47428259e+01  1.18500592e+01]\n",
      " [-4.17066458e+01  3.36111470e+01]\n",
      " [-7.40917802e+00  6.25033964e+00]\n",
      " [ 2.04540880e+00  3.32773445e+01]\n",
      " [ 6.09210678e+01  2.32058497e+01]\n",
      " [ 7.03299724e+01  1.35989064e+01]\n",
      " [ 5.22983771e+01  2.70536413e+01]\n",
      " [ 1.70065236e+01 -2.13218186e+01]\n",
      " [ 3.16749447e+02  1.57198272e+01]\n",
      " [ 3.05538405e+01  8.67999797e-01]\n",
      " [-5.10054999e+01  9.98785187e+00]\n",
      " [-3.33081544e+01  9.85793365e+00]\n",
      " [ 5.76351497e-01 -2.43665814e+01]\n",
      " [ 7.91544528e+00  2.69240089e+01]\n",
      " [-3.92019129e+01  1.66665821e+01]\n",
      " [-2.31512130e+01  1.82374297e+01]\n",
      " [ 4.15904451e+01  9.99602712e+00]\n",
      " [-8.73164287e+01 -9.28658061e+00]\n",
      " [-1.94998842e+01 -3.89746683e+01]\n",
      " [ 1.48096221e+02  7.78636031e+00]\n",
      " [-1.44333997e+01  2.80021354e-02]\n",
      " [ 6.79834667e+01  1.56506133e+01]\n",
      " [-5.66463322e-01  2.32497020e+01]\n",
      " [-2.17890621e+00  2.82410256e+01]\n",
      " [ 2.61147551e+01 -9.77685047e+00]\n",
      " [-5.06406558e+01  2.52622187e+01]\n",
      " [-7.62277163e+00  4.66899999e+01]\n",
      " [-5.05675871e+01  1.31889197e+01]\n",
      " [-3.49561481e+01 -3.58075821e+01]\n",
      " [-1.01792704e+01 -2.40340759e+01]\n",
      " [-1.03261196e+01  3.14643025e+00]\n",
      " [-3.07718098e+00  1.40469425e+01]\n",
      " [ 6.45117302e+00  1.23537176e+01]\n",
      " [ 8.12324477e+01 -9.76701581e-01]\n",
      " [-1.19226291e+02  1.81289862e+01]\n",
      " [ 6.75045538e+01 -1.75519177e+01]\n",
      " [-3.67582158e+01  1.47459364e+01]\n",
      " [ 1.56092274e+01  5.62618095e+00]\n",
      " [-3.25955878e+01  2.37018244e+01]\n",
      " [-3.29426698e+01  1.99128716e+01]\n",
      " [-5.37420903e+01  1.19588611e+01]\n",
      " [-4.39460245e+01  2.53474586e+01]\n",
      " [-3.30055147e+00  3.10380777e+00]\n",
      " [ 5.71364038e+01 -2.75425777e+01]\n",
      " [ 2.49346693e+01  3.06121389e+01]\n",
      " [ 2.00658433e+01  2.67787170e+01]\n",
      " [ 1.94265927e+01  1.99277142e+01]\n",
      " [-4.97890334e+01  3.45204118e+01]\n",
      " [-3.79588300e+01  4.58319341e+01]\n",
      " [-4.33601665e+01 -3.91500695e+00]\n",
      " [ 3.19771185e+01  1.80629396e+01]\n",
      " [-5.01961305e+01  1.79483810e+01]\n",
      " [ 2.31253663e+01 -2.99073603e+01]\n",
      " [-4.39409955e+01  9.32987328e+00]\n",
      " [ 2.44956667e+01  1.33095733e+01]\n",
      " [ 4.75046019e+01  1.65140532e+01]\n",
      " [-1.28277115e+01  7.77413385e+00]\n",
      " [ 5.87236797e+01  1.72650379e+01]\n",
      " [ 2.23032866e+01  1.46610375e+01]\n",
      " [-6.80713170e+01 -5.35196315e+01]\n",
      " [-3.79925537e+01 -1.11499559e+01]\n",
      " [-4.59283877e+01 -2.22402367e+01]\n",
      " [ 1.72403581e+01 -4.46927047e+01]\n",
      " [ 4.78991398e+01  9.98980124e+00]\n",
      " [ 5.51539727e+01  3.55284098e+01]\n",
      " [-3.84085771e+01  2.55954822e+01]\n",
      " [-2.38811176e+01 -7.56699767e+00]\n",
      " [-4.76724389e+01 -3.86264546e+01]\n",
      " [ 5.61381220e-01 -1.18633697e+01]\n",
      " [-5.31060481e+00  2.61173133e+00]\n",
      " [-5.31670653e+00  1.78564510e+01]\n",
      " [-2.13351983e+01  2.16622139e+01]\n",
      " [-6.67088816e+01  1.52834204e+00]\n",
      " [-1.63328111e+01 -1.68172492e+01]\n",
      " [-9.71697018e+01 -2.69818025e+01]\n",
      " [-1.70634064e+01 -8.45677177e-01]\n",
      " [ 3.27990023e+01 -6.67997033e-01]\n",
      " [-2.65372631e+01  3.96616859e+00]\n",
      " [-4.89650336e+01 -1.96684831e+01]\n",
      " [ 6.13292063e+00  3.03739217e+01]\n",
      " [-5.55642386e+01  2.73072199e+01]\n",
      " [-2.63399402e+01 -6.02689407e+00]\n",
      " [-2.53276285e+01  1.24612830e+01]\n",
      " [-6.88718174e+00  1.97145339e+01]\n",
      " [ 9.54711027e+01  1.77009114e+01]\n",
      " [-9.04133799e+01  3.35593558e+01]\n",
      " [-7.16396597e+01  2.37643886e+01]\n",
      " [-7.16396597e+01  2.37643886e+01]\n",
      " [ 4.18197447e+01 -4.52249925e+01]\n",
      " [-1.71261639e+01 -2.16710711e+01]\n",
      " [ 2.23256592e+01  8.19666164e+00]\n",
      " [ 8.00705846e+00 -3.86621159e+00]\n",
      " [-4.28696156e+01  3.70555560e+00]\n",
      " [ 9.75797442e+00 -7.40139126e+00]\n",
      " [-1.86474671e+01  2.09987262e+01]\n",
      " [ 3.71761566e+01  1.13870966e+01]\n",
      " [-2.22273002e+01  2.16543675e+01]\n",
      " [-3.99040777e+01 -1.89454898e+01]\n",
      " [-8.04401561e+01 -3.15451480e+01]\n",
      " [-1.67783444e+01  1.02606413e+01]\n",
      " [ 8.92745356e+01  7.31054466e+00]\n",
      " [-6.99088445e+01 -2.70813929e+01]\n",
      " [ 3.09339720e+01 -3.86115665e+01]\n",
      " [ 1.06703009e+02 -1.53538497e+01]\n",
      " [-1.96587903e+01 -3.91295966e+01]\n",
      " [ 8.36154725e+01  1.95216645e+01]\n",
      " [-1.71341735e+01  1.60418481e+01]\n",
      " [-2.39282344e+00 -2.23656761e+01]\n",
      " [ 4.22833359e+01  8.06448136e+00]\n",
      " [ 6.91167603e+00 -6.26656360e+00]\n",
      " [ 1.96243332e+01 -3.85256546e+01]\n",
      " [-1.31125991e+01  1.27318441e+01]\n",
      " [-7.57375885e+01  1.14199614e+01]\n",
      " [ 5.84701625e+01 -5.56709620e+00]\n",
      " [-3.00890831e+01 -1.91629567e+01]\n",
      " [-5.84468565e+01 -3.56937128e+01]\n",
      " [ 3.65887410e+01 -9.26162026e+00]\n",
      " [-6.05635842e+01  2.12850782e+00]\n",
      " [ 8.16660054e+01 -1.27753312e+01]\n",
      " [-1.46715956e+01 -3.29250462e+00]\n",
      " [ 7.80766434e+00  1.15712761e+01]\n",
      " [ 2.08206903e+01 -4.93221000e+01]\n",
      " [ 1.06289695e+00  8.49799938e+00]\n",
      " [-5.08073967e+01  2.99181026e+01]\n",
      " [ 1.16895915e+01 -8.61870113e+00]\n",
      " [ 2.49935343e+01 -3.98757284e+01]\n",
      " [ 3.05192299e+01 -6.62398075e+00]\n",
      " [-8.04036376e+01 -1.06169304e+01]\n",
      " [ 8.36996320e+00  1.20747257e+01]\n",
      " [-8.03618926e+00 -6.24254701e+00]\n",
      " [ 1.27639122e+01  4.42289158e+00]\n",
      " [-5.88348209e+01 -9.38176887e+00]\n",
      " [-6.86382666e+01  9.01573342e+00]\n",
      " [-1.73026958e+01 -7.65098966e-02]\n",
      " [ 1.34940887e+01 -9.23332642e+00]\n",
      " [-2.83947076e+01 -5.75332197e+00]\n",
      " [ 6.15465542e+01 -4.99611728e+00]\n",
      " [ 2.52399874e+00 -5.10237950e+00]\n",
      " [ 9.42277808e+01 -9.51501402e+00]\n",
      " [ 1.73148859e+01 -5.23379788e+01]\n",
      " [ 8.39735990e+01 -1.70727173e+01]\n",
      " [ 8.47295049e+00 -2.43185301e+01]\n",
      " [ 9.38942689e+00  1.85442370e+00]\n",
      " [ 1.61617639e+02  3.80387787e+00]\n",
      " [-2.84925228e+01 -3.94263668e+01]\n",
      " [ 3.62078237e+01  2.19066958e+01]\n",
      " [ 4.51063806e+01 -2.29522013e+01]\n",
      " [-8.11518539e+00 -2.09941418e+01]\n",
      " [-7.06859638e+01 -2.97790223e+01]\n",
      " [ 3.47613868e+01 -4.51052191e+01]\n",
      " [-4.93417477e+01 -1.54267378e+01]\n",
      " [ 4.35905728e+01  5.16611667e+00]\n",
      " [ 6.28143128e+01 -1.80743197e+01]\n",
      " [-4.69587349e+00  6.07939007e+00]\n",
      " [ 4.45395018e+01 -2.82154176e+01]\n",
      " [ 4.40654268e+01 -6.79430599e+00]\n",
      " [-3.78967813e-02 -5.30320698e+01]\n",
      " [ 7.64336112e+01 -4.09893565e+01]\n",
      " [ 5.27282629e+01  2.35735673e+01]\n",
      " [ 5.33051683e+01  2.19352932e+01]\n",
      " [ 4.71205929e+01  1.88686496e+01]\n",
      " [ 5.81142852e+01  9.74168891e+00]\n",
      " [ 3.45882633e+01  1.10269523e+01]\n",
      " [ 2.49372705e+01 -4.21742263e+01]\n",
      " [ 4.97860630e+00 -1.16787225e+01]\n",
      " [-3.30476202e+01 -2.10949255e+01]\n",
      " [ 2.92112525e+01 -6.23253185e+01]\n",
      " [-6.17294730e+01 -4.52151416e+01]\n",
      " [ 2.69482051e+01  1.84707904e+01]\n",
      " [ 1.62601914e+02  2.91047352e+00]\n",
      " [ 1.76358515e+00 -3.40502950e+01]\n",
      " [ 3.91892127e+01  3.88537256e+01]\n",
      " [ 8.72772333e+00 -6.98051819e+00]\n",
      " [ 5.21134479e+01 -2.63698957e+01]\n",
      " [ 3.59494997e-01 -4.48985394e+00]\n",
      " [ 4.85748918e+01 -4.38273118e+01]\n",
      " [ 5.18117950e+01 -2.21107783e+01]\n",
      " [ 2.83925296e+01 -2.72949756e+01]\n",
      " [ 6.27624509e+01 -7.66849769e-01]\n",
      " [ 1.28341626e+01 -1.93091097e+01]\n",
      " [-4.55815556e+01 -2.45095216e+01]\n",
      " [-1.11447079e+00  8.92995396e-01]\n",
      " [-1.66719275e+01  3.54797126e+01]\n",
      " [-1.56702530e+01  7.67974909e+00]\n",
      " [-1.73372333e+01  1.22830106e+01]\n",
      " [ 3.56088032e+01 -5.16148213e+01]\n",
      " [ 2.17707152e+01  2.01868964e+01]\n",
      " [-4.09218463e+01 -3.91729465e+01]\n",
      " [-3.45413851e+01 -1.79890833e+01]\n",
      " [ 8.31487334e+01 -3.55243895e+01]\n",
      " [-9.77597417e+01 -2.26018372e+01]\n",
      " [ 3.94403295e+01 -3.11146680e+01]\n",
      " [ 3.69977907e+01 -4.50358095e+01]\n",
      " [ 1.88978181e+00 -2.72833600e+00]\n",
      " [-1.18321429e+01 -6.25017709e+00]\n",
      " [-8.72338097e+00 -7.81323620e+01]\n",
      " [-1.36485616e+01  8.60017159e+00]\n",
      " [ 2.75953485e+01 -2.68033627e+01]\n",
      " [-3.47384347e+01  1.83706974e+01]\n",
      " [-2.70504587e+01 -4.63670420e+01]\n",
      " [ 1.45091664e+01 -7.82337627e+00]\n",
      " [ 7.29306386e+01  2.61133576e+00]\n",
      " [-7.93555887e+01 -2.75843094e+01]\n",
      " [ 6.85028170e+01 -2.09746145e+01]\n",
      " [-4.24974303e+01  6.18715836e+00]\n",
      " [-2.81812083e+01 -1.61083297e+01]\n",
      " [-2.30484284e+01  3.07093537e+01]\n",
      " [-3.84370655e+01 -1.42537105e+01]\n",
      " [ 6.49008923e+01 -2.71076488e+01]\n",
      " [-4.19802499e+01  1.01863752e+01]\n",
      " [-1.31745404e+01  1.09710037e+01]\n",
      " [ 8.76914867e+01 -3.06726803e+00]\n",
      " [-4.11832177e+01 -1.97802575e+01]\n",
      " [-4.22225275e+01  7.35629223e+00]\n",
      " [ 7.09768185e+01 -6.96831601e+00]\n",
      " [-1.92194152e+01 -8.68545637e+00]\n",
      " [-3.27338125e+01 -4.71710647e+00]\n",
      " [-7.80338286e+01 -3.97586774e+00]\n",
      " [-5.83590987e+01 -9.19123625e+00]\n",
      " [-4.90902148e+01 -1.50673932e+01]\n",
      " [-6.79628322e+01 -6.38801449e+01]\n",
      " [-4.55412086e+00 -2.74901690e+01]\n",
      " [ 1.64280078e+01 -1.29217160e+01]\n",
      " [-5.19638115e+01 -1.33237984e+01]\n",
      " [-1.14755981e+02 -3.64351842e+01]\n",
      " [-1.03961420e+01  2.33024008e+01]]\n"
     ]
    }
   ],
   "source": [
    "from sklearn.decomposition import PCA\n",
    "\n",
    "# Initialize and fit the model\n",
    "pca = PCA(n_components=2)\n",
    "X_pca = pca.fit_transform(X)\n",
    "\n",
    "print('PCA components:', X_pca)"
   ]
  },
  {
   "cell_type": "code",
   "execution_count": 19,
   "metadata": {},
   "outputs": [
    {
     "name": "stdout",
     "output_type": "stream",
     "text": [
      "Association rules:        antecedents                                        consequents  \\\n",
      "0            (age)                                              (sex)   \n",
      "1            (sex)                                              (age)   \n",
      "2             (cp)                                              (age)   \n",
      "3            (age)                                               (cp)   \n",
      "4            (age)                                         (trestbps)   \n",
      "...            ...                                                ...   \n",
      "148457    (target)  (chol, thalach, oldpeak, restecg, thal, cp, ag...   \n",
      "148458      (thal)  (chol, thalach, oldpeak, restecg, target, cp, ...   \n",
      "148459        (cp)  (chol, thalach, oldpeak, restecg, target, thal...   \n",
      "148460       (age)  (chol, thalach, oldpeak, restecg, target, thal...   \n",
      "148461  (trestbps)  (chol, thalach, oldpeak, restecg, target, thal...   \n",
      "\n",
      "        antecedent support  consequent support   support  confidence  \\\n",
      "0                 1.000000            0.683168  0.683168    0.683168   \n",
      "1                 0.683168            1.000000  0.683168    1.000000   \n",
      "2                 0.528053            1.000000  0.528053    1.000000   \n",
      "3                 1.000000            0.528053  0.528053    0.528053   \n",
      "4                 1.000000            1.000000  1.000000    1.000000   \n",
      "...                    ...                 ...       ...         ...   \n",
      "148457            0.544554            0.148515  0.108911    0.200000   \n",
      "148458            0.993399            0.108911  0.108911    0.109635   \n",
      "148459            0.528053            0.161716  0.108911    0.206250   \n",
      "148460            1.000000            0.108911  0.108911    0.108911   \n",
      "148461            1.000000            0.108911  0.108911    0.108911   \n",
      "\n",
      "            lift  leverage  conviction  zhangs_metric  \n",
      "0       1.000000  0.000000    1.000000       0.000000  \n",
      "1       1.000000  0.000000         inf       0.000000  \n",
      "2       1.000000  0.000000         inf       0.000000  \n",
      "3       1.000000  0.000000    1.000000       0.000000  \n",
      "4       1.000000  0.000000         inf       0.000000  \n",
      "...          ...       ...         ...            ...  \n",
      "148457  1.346667  0.028036    1.064356       0.565217  \n",
      "148458  1.006645  0.000719    1.000813       1.000000  \n",
      "148459  1.275383  0.023516    1.056106       0.457512  \n",
      "148460  1.000000  0.000000    1.000000       0.000000  \n",
      "148461  1.000000  0.000000    1.000000       0.000000  \n",
      "\n",
      "[148462 rows x 10 columns]\n"
     ]
    }
   ],
   "source": [
    "import pandas as pd\n",
    "from mlxtend.frequent_patterns import apriori, association_rules\n",
    "\n",
    "df_apriori = df.gt(0).astype(bool)  # More efficient conversion to boolean\n",
    "\n",
    "# Apply Apriori algorithm with placeholder values (replace with your desired settings)\n",
    "frequent_itemsets = apriori(df_apriori, min_support=0.1, use_colnames=True)\n",
    "\n",
    "# Generate association rules with placeholder values (replace with your desired settings)\n",
    "rules = association_rules(frequent_itemsets, metric='lift', min_threshold=1.0)\n",
    "print('Association rules:', rules)\n"
   ]
  },
  {
   "cell_type": "code",
   "execution_count": null,
   "metadata": {},
   "outputs": [],
   "source": []
  }
 ],
 "metadata": {
  "kernelspec": {
   "display_name": "Python 3 (ipykernel)",
   "language": "python",
   "name": "python3"
  },
  "language_info": {
   "codemirror_mode": {
    "name": "ipython",
    "version": 3
   },
   "file_extension": ".py",
   "mimetype": "text/x-python",
   "name": "python",
   "nbconvert_exporter": "python",
   "pygments_lexer": "ipython3",
   "version": "3.12.0"
  }
 },
 "nbformat": 4,
 "nbformat_minor": 4
}
