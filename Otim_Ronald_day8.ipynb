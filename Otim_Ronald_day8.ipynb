{
 "cells": [
  {
   "cell_type": "code",
   "execution_count": 1,
   "id": "85c17027-112f-496a-a899-04298a2be9c1",
   "metadata": {},
   "outputs": [],
   "source": [
    "# Data Science with Python\n",
    "\n",
    "# Application of Data Science\n",
    "\n",
    "# Step 1: Import neccessary libraries\n",
    "\n",
    "import pandas as pd\n",
    "import numpy as np\n",
    "import matplotlib.pyplot as pit\n",
    "import seaborn as sns"
   ]
  },
  {
   "cell_type": "code",
   "execution_count": 5,
   "id": "daef55c6-94bb-4b2c-9b49-7372e1d1805a",
   "metadata": {},
   "outputs": [
    {
     "name": "stdout",
     "output_type": "stream",
     "text": [
      "   number_siblings                   name  gender  age living_allowance  \\\n",
      "0                1     Nakasujja Gertrude  female   33              NaN   \n",
      "1                3  Arinda Asiimwe Atweta  female   23           50,000   \n",
      "2                4    Ndjekornom Victoire    male   23           25,000   \n",
      "3                0         KATURAMU EDGAR    male   27          500,000   \n",
      "4                4      Abinsinguza Lasse    male   24          100,000   \n",
      "\n",
      "   have_bf_gf                profession  daily_meals  \n",
      "0           1            Data Scientist            2  \n",
      "1           1  Machine Learning Enginer            1  \n",
      "2           0            Data Scientist            1  \n",
      "3           0  Machine Learning Enginer            2  \n",
      "4           1            Data Scientist            2  \n"
     ]
    }
   ],
   "source": [
    "# Step 2: Load data set\n",
    "# Load the data set from the CSV file\n",
    "\n",
    "df = pd.read_csv(\"bse_data.csv\")\n",
    "\n",
    "# display first row of the dataframe\n",
    "\n",
    "print(df.head())"
   ]
  },
  {
   "cell_type": "code",
   "execution_count": 10,
   "id": "02f52ee0-b308-4517-aeed-ce7c68ce61f9",
   "metadata": {},
   "outputs": [
    {
     "name": "stdout",
     "output_type": "stream",
     "text": [
      "number_siblings     0\n",
      "name                0\n",
      "gender              0\n",
      "age                 0\n",
      "living_allowance    7\n",
      "have_bf_gf          0\n",
      "profession          0\n",
      "daily_meals         0\n",
      "dtype: int64\n"
     ]
    }
   ],
   "source": [
    "# Step 3: Data cleaning and pre-processing\n",
    "# 1. Empty cells, 2. wrong format, 3. wrong data, 4. Duplicates\n",
    "# Check for missing values\n",
    "print(df.isnull().sum())"
   ]
  },
  {
   "cell_type": "code",
   "execution_count": 7,
   "id": "682f7d1e-246e-4021-ad66-c4549f6e1c6b",
   "metadata": {},
   "outputs": [
    {
     "name": "stdout",
     "output_type": "stream",
     "text": [
      "0\n"
     ]
    }
   ],
   "source": [
    "# Check for duplicates\n",
    "print(df.duplicated().sum())"
   ]
  },
  {
   "cell_type": "code",
   "execution_count": 11,
   "id": "543feb8a-ac3b-4db8-800b-236cdff4e3dd",
   "metadata": {},
   "outputs": [
    {
     "name": "stdout",
     "output_type": "stream",
     "text": [
      "number_siblings     0\n",
      "name                0\n",
      "gender              0\n",
      "age                 0\n",
      "living_allowance    7\n",
      "have_bf_gf          0\n",
      "profession          0\n",
      "daily_meals         0\n",
      "dtype: int64\n"
     ]
    }
   ],
   "source": [
    "# Check for empty cell\n",
    "print(df.isnull().sum())"
   ]
  },
  {
   "cell_type": "code",
   "execution_count": 13,
   "id": "5686c104-9348-4fdb-9a26-96ea05436006",
   "metadata": {},
   "outputs": [
    {
     "name": "stdout",
     "output_type": "stream",
     "text": [
      "number_siblings      int64\n",
      "name                object\n",
      "gender              object\n",
      "age                  int64\n",
      "living_allowance    object\n",
      "have_bf_gf           int64\n",
      "profession          object\n",
      "daily_meals          int64\n",
      "dtype: object\n"
     ]
    }
   ],
   "source": [
    "# Check for wrong format\n",
    "print(df.dtypes)"
   ]
  },
  {
   "cell_type": "code",
   "execution_count": 24,
   "id": "1ee02293-c5f5-4329-99e3-cc2660db29b9",
   "metadata": {},
   "outputs": [
    {
     "name": "stdout",
     "output_type": "stream",
     "text": [
      "[1 0]\n"
     ]
    }
   ],
   "source": [
    "# Check for wrong data\n",
    "print(df['have_bf_gf'].unique())"
   ]
  },
  {
   "cell_type": "code",
   "execution_count": 23,
   "id": "89cd9da3-e230-4aef-93e0-9533a0d700ca",
   "metadata": {},
   "outputs": [
    {
     "name": "stdout",
     "output_type": "stream",
     "text": [
      "   number_siblings                   name  gender  age  living_allowance  \\\n",
      "0                1     Nakasujja Gertrude  female   33          200000.0   \n",
      "1                3  Arinda Asiimwe Atweta  female   23           50000.0   \n",
      "2                4    Ndjekornom Victoire    male   23           25000.0   \n",
      "3                0         KATURAMU EDGAR    male   27          500000.0   \n",
      "4                4      Abinsinguza Lasse    male   24          100000.0   \n",
      "\n",
      "   have_bf_gf                profession  daily_meals  \n",
      "0           1            Data Scientist            2  \n",
      "1           1  Machine Learning Enginer            1  \n",
      "2           0            Data Scientist            1  \n",
      "3           0  Machine Learning Enginer            2  \n",
      "4           1            Data Scientist            2  \n"
     ]
    }
   ],
   "source": [
    "# Check if 'living_allowance' is a string type before using .str\n",
    "if df['living_allowance'].dtype == object:\n",
    "    # If it's string type, remove comma and convert to float\n",
    "    df['living_allowance'] = df['living_allowance'].str.replace(',', '').astype(float)\n",
    "else:\n",
    "    # If not string type, convert directly to float (assuming numeric data)\n",
    "    df['living_allowance'] = df['living_allowance'].astype(float)\n",
    "\n",
    "# Fill missing values for living allowance with the median living allowance\n",
    "df['living_allowance'] = df['living_allowance'].fillna(df['living_allowance'].median())\n",
    "\n",
    "# Display the updated dataset\n",
    "print(df.head())\n"
   ]
  },
  {
   "cell_type": "code",
   "execution_count": 25,
   "id": "bb3f92be-092f-46b3-ba7e-222f384e600c",
   "metadata": {},
   "outputs": [
    {
     "name": "stdout",
     "output_type": "stream",
     "text": [
      "number_siblings     0\n",
      "name                0\n",
      "gender              0\n",
      "age                 0\n",
      "living_allowance    0\n",
      "have_bf_gf          0\n",
      "profession          0\n",
      "daily_meals         0\n",
      "dtype: int64\n"
     ]
    }
   ],
   "source": [
    "# Data cleaning\n",
    "# Check for missing values again\n",
    "print(df.isnull().sum())"
   ]
  },
  {
   "cell_type": "code",
   "execution_count": 26,
   "id": "cfd09ba9-1072-4b23-949c-3c7f8d4d3bea",
   "metadata": {},
   "outputs": [
    {
     "name": "stdout",
     "output_type": "stream",
     "text": [
      "       number_siblings        age  living_allowance  have_bf_gf  daily_meals\n",
      "count        36.000000  36.000000      3.600000e+01   36.000000    36.000000\n",
      "mean          3.888889  24.055556      3.428333e+05    0.333333     2.277778\n",
      "std           2.504599   2.936903      4.499779e+05    0.478091     0.701472\n",
      "min           0.000000  20.000000      2.000000e+03    0.000000     1.000000\n",
      "25%           2.000000  22.750000      1.425000e+05    0.000000     2.000000\n",
      "50%           4.000000  23.000000      2.000000e+05    0.000000     2.000000\n",
      "75%           5.000000  24.000000      3.500000e+05    1.000000     3.000000\n",
      "max           9.000000  33.000000      2.500000e+06    1.000000     3.000000\n"
     ]
    }
   ],
   "source": [
    "# Exploratory Data Analysis (EDA)\n",
    "# Summary statistics\n",
    "print(df.describe())"
   ]
  },
  {
   "cell_type": "code",
   "execution_count": 27,
   "id": "2288aafc-a4e3-498b-a854-ea1501ab3976",
   "metadata": {},
   "outputs": [
    {
     "name": "stdout",
     "output_type": "stream",
     "text": [
      "have_bf_gf\n",
      "0    24\n",
      "1    12\n",
      "Name: count, dtype: int64\n"
     ]
    }
   ],
   "source": [
    "# Distribution of gf and bf count\n",
    "print(df['have_bf_gf'].value_counts())"
   ]
  },
  {
   "cell_type": "code",
   "execution_count": 28,
   "id": "1e6448ba-d2c5-4871-82e4-a9bf39d05339",
   "metadata": {},
   "outputs": [
    {
     "name": "stdout",
     "output_type": "stream",
     "text": [
      "daily_meals\n",
      "2    16\n",
      "3    15\n",
      "1     5\n",
      "Name: count, dtype: int64\n"
     ]
    }
   ],
   "source": [
    "# Distribution of daily meals\n",
    "print(df['daily_meals'].value_counts())"
   ]
  },
  {
   "cell_type": "code",
   "execution_count": 31,
   "id": "0cc39c91-352a-4514-ac5a-e0552eb2c6dd",
   "metadata": {},
   "outputs": [
    {
     "name": "stdout",
     "output_type": "stream",
     "text": [
      "number_siblings\n",
      "4    8\n",
      "1    5\n",
      "2    5\n",
      "3    4\n",
      "5    4\n",
      "8    3\n",
      "0    2\n",
      "6    2\n",
      "9    2\n",
      "7    1\n",
      "Name: count, dtype: int64\n"
     ]
    }
   ],
   "source": [
    "# Distribution of number of siblings\n",
    "print(df['number_siblings'].value_counts())"
   ]
  },
  {
   "cell_type": "code",
   "execution_count": 32,
   "id": "cfff7385-6a0f-4ea8-83ef-0d5b78c9d325",
   "metadata": {},
   "outputs": [
    {
     "name": "stdout",
     "output_type": "stream",
     "text": [
      "profession\n",
      "Data Scientist              19\n",
      "Machine Learning Enginer    10\n",
      "Data Analyst                 7\n",
      "Name: count, dtype: int64\n"
     ]
    }
   ],
   "source": [
    "# Distribution of profession\n",
    "print(df['profession'].value_counts())"
   ]
  },
  {
   "cell_type": "code",
   "execution_count": 35,
   "id": "b5d1ac0c-c399-4abe-9de7-cab8162462f1",
   "metadata": {},
   "outputs": [
    {
     "data": {
      "image/png": "[encoded data removed]",
      "text/plain": [
       "<Figure size 640x480 with 1 Axes>"
      ]
     },
     "metadata": {},
     "output_type": "display_data"
    },
    {
     "data": {
      "image/png": "[encoded data removed]",
      "text/plain": [
       "<Figure size 640x480 with 1 Axes>"
      ]
     },
     "metadata": {},
     "output_type": "display_data"
    },
    {
     "data": {
      "image/png": "[encoded data removed]",
      "text/plain": [
       "<Figure size 640x480 with 1 Axes>"
      ]
     },
     "metadata": {},
     "output_type": "display_data"
    }
   ],
   "source": [
    "import seaborn as sns\n",
    "import matplotlib.pyplot as plt\n",
    "\n",
    "# Data Visualization: Visualization helps to gain more insights from the data.\n",
    "\n",
    "# have_bf_gf rate by gender\n",
    "sns.barplot(x ='gender', y ='have_bf_gf', data=df)\n",
    "plt.title('have bf & gf Rate by Gender')\n",
    "plt.show()\n",
    "\n",
    "# Age Distribution Use Pie Chart\n",
    "sns.histplot(df['age'], bins=30, kde=True)\n",
    "plt.title('Age Distribution')\n",
    "plt.show()\n",
    "\n",
    "# Gender distribution\n",
    "sns.histplot(df['gender'], bins=30, kde=True)\n",
    "plt.title('Age Distribution')\n",
    "plt.show()"
   ]
  },
  {
   "cell_type": "code",
   "execution_count": null,
   "id": "bc5eebf2-d491-409e-b709-10bcacadb481",
   "metadata": {},
   "outputs": [],
   "source": []
  }
 ],
 "metadata": {
  "kernelspec": {
   "display_name": "Python 3 (ipykernel)",
   "language": "python",
   "name": "python3"
  },
  "language_info": {
   "codemirror_mode": {
    "name": "ipython",
    "version": 3
   },
   "file_extension": ".py",
   "mimetype": "text/x-python",
   "name": "python",
   "nbconvert_exporter": "python",
   "pygments_lexer": "ipython3",
   "version": "3.12.0"
  }
 },
 "nbformat": 4,
 "nbformat_minor": 5
}
